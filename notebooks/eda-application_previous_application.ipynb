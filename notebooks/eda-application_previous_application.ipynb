{
 "cells": [
  {
   "cell_type": "code",
   "execution_count": 1,
   "metadata": {},
   "outputs": [],
   "source": [
    "import os\n",
    "import pandas as pd\n",
    "from tqdm import tqdm_notebook as tqdm\n",
    "from sklearn.externals import joblib\n",
    "from functools import partial\n",
    "\n",
    "%matplotlib inline\n",
    "import seaborn as sns\n",
    "import category_encoders as ce"
   ]
  },
  {
   "cell_type": "code",
   "execution_count": 2,
   "metadata": {},
   "outputs": [],
   "source": [
    "#DIR = '/PATH/TO/YOUR/DATA'\n",
    "DIR = '/mnt/ml-team/minerva/open-solutions/home-credit'\n",
    "description = pd.read_csv(os.path.join(DIR,'data/HomeCredit_columns_description.csv'),encoding = 'latin1')\n",
    "application = pd.read_csv(os.path.join(DIR, 'files/unzipped_data/application_train.csv'))\n",
    "previous_application = pd.read_csv(os.path.join(DIR, 'files/unzipped_data/previous_application.csv'))"
   ]
  },
  {
   "cell_type": "markdown",
   "metadata": {},
   "source": [
    "# Solution 6\n",
    "### Hand crafted features"
   ]
  },
  {
   "cell_type": "code",
   "execution_count": 3,
   "metadata": {
    "scrolled": true
   },
   "outputs": [
    {
     "data": {
      "text/html": [
       "<div>\n",
       "<style scoped>\n",
       "    .dataframe tbody tr th:only-of-type {\n",
       "        vertical-align: middle;\n",
       "    }\n",
       "\n",
       "    .dataframe tbody tr th {\n",
       "        vertical-align: top;\n",
       "    }\n",
       "\n",
       "    .dataframe thead th {\n",
       "        text-align: right;\n",
       "    }\n",
       "</style>\n",
       "<table border=\"1\" class=\"dataframe\">\n",
       "  <thead>\n",
       "    <tr style=\"text-align: right;\">\n",
       "      <th></th>\n",
       "      <th>SK_ID_CURR</th>\n",
       "      <th>NAME_CONTRACT_TYPE_x</th>\n",
       "      <th>AMT_CREDIT_x</th>\n",
       "      <th>AMT_ANNUITY_x</th>\n",
       "      <th>AMT_GOODS_PRICE_x</th>\n",
       "      <th>NAME_TYPE_SUITE_x</th>\n",
       "      <th>WEEKDAY_APPR_PROCESS_START_x</th>\n",
       "      <th>HOUR_APPR_PROCESS_START_x</th>\n",
       "      <th>DAYS_DECISION</th>\n",
       "      <th>NAME_CONTRACT_TYPE_y</th>\n",
       "      <th>AMT_CREDIT_y</th>\n",
       "      <th>AMT_ANNUITY_y</th>\n",
       "      <th>AMT_GOODS_PRICE_y</th>\n",
       "      <th>NAME_TYPE_SUITE_y</th>\n",
       "      <th>WEEKDAY_APPR_PROCESS_START_y</th>\n",
       "      <th>HOUR_APPR_PROCESS_START_y</th>\n",
       "    </tr>\n",
       "  </thead>\n",
       "  <tbody>\n",
       "    <tr>\n",
       "      <th>0</th>\n",
       "      <td>271877</td>\n",
       "      <td>Consumer loans</td>\n",
       "      <td>17145.0</td>\n",
       "      <td>1730.430</td>\n",
       "      <td>17145.0</td>\n",
       "      <td>NaN</td>\n",
       "      <td>SATURDAY</td>\n",
       "      <td>15.0</td>\n",
       "      <td>-73.0</td>\n",
       "      <td>Cash loans</td>\n",
       "      <td>533668.5</td>\n",
       "      <td>25803.0</td>\n",
       "      <td>477000.0</td>\n",
       "      <td>Unaccompanied</td>\n",
       "      <td>TUESDAY</td>\n",
       "      <td>17</td>\n",
       "    </tr>\n",
       "    <tr>\n",
       "      <th>1</th>\n",
       "      <td>271877</td>\n",
       "      <td>Consumer loans</td>\n",
       "      <td>1754721.0</td>\n",
       "      <td>68258.655</td>\n",
       "      <td>1800000.0</td>\n",
       "      <td>NaN</td>\n",
       "      <td>SATURDAY</td>\n",
       "      <td>18.0</td>\n",
       "      <td>-472.0</td>\n",
       "      <td>Cash loans</td>\n",
       "      <td>533668.5</td>\n",
       "      <td>25803.0</td>\n",
       "      <td>477000.0</td>\n",
       "      <td>Unaccompanied</td>\n",
       "      <td>TUESDAY</td>\n",
       "      <td>17</td>\n",
       "    </tr>\n",
       "    <tr>\n",
       "      <th>2</th>\n",
       "      <td>271877</td>\n",
       "      <td>Consumer loans</td>\n",
       "      <td>119848.5</td>\n",
       "      <td>12417.390</td>\n",
       "      <td>108400.5</td>\n",
       "      <td>NaN</td>\n",
       "      <td>SUNDAY</td>\n",
       "      <td>14.0</td>\n",
       "      <td>-548.0</td>\n",
       "      <td>Cash loans</td>\n",
       "      <td>533668.5</td>\n",
       "      <td>25803.0</td>\n",
       "      <td>477000.0</td>\n",
       "      <td>Unaccompanied</td>\n",
       "      <td>TUESDAY</td>\n",
       "      <td>17</td>\n",
       "    </tr>\n",
       "    <tr>\n",
       "      <th>3</th>\n",
       "      <td>108129</td>\n",
       "      <td>Cash loans</td>\n",
       "      <td>679671.0</td>\n",
       "      <td>25188.615</td>\n",
       "      <td>607500.0</td>\n",
       "      <td>Unaccompanied</td>\n",
       "      <td>THURSDAY</td>\n",
       "      <td>11.0</td>\n",
       "      <td>-164.0</td>\n",
       "      <td>Revolving loans</td>\n",
       "      <td>135000.0</td>\n",
       "      <td>6750.0</td>\n",
       "      <td>135000.0</td>\n",
       "      <td>Family</td>\n",
       "      <td>SUNDAY</td>\n",
       "      <td>10</td>\n",
       "    </tr>\n",
       "    <tr>\n",
       "      <th>4</th>\n",
       "      <td>108129</td>\n",
       "      <td>Cash loans</td>\n",
       "      <td>512370.0</td>\n",
       "      <td>21709.125</td>\n",
       "      <td>450000.0</td>\n",
       "      <td>NaN</td>\n",
       "      <td>WEDNESDAY</td>\n",
       "      <td>9.0</td>\n",
       "      <td>-515.0</td>\n",
       "      <td>Revolving loans</td>\n",
       "      <td>135000.0</td>\n",
       "      <td>6750.0</td>\n",
       "      <td>135000.0</td>\n",
       "      <td>Family</td>\n",
       "      <td>SUNDAY</td>\n",
       "      <td>10</td>\n",
       "    </tr>\n",
       "  </tbody>\n",
       "</table>\n",
       "</div>"
      ],
      "text/plain": [
       "   SK_ID_CURR NAME_CONTRACT_TYPE_x  AMT_CREDIT_x  AMT_ANNUITY_x  \\\n",
       "0      271877       Consumer loans       17145.0       1730.430   \n",
       "1      271877       Consumer loans     1754721.0      68258.655   \n",
       "2      271877       Consumer loans      119848.5      12417.390   \n",
       "3      108129           Cash loans      679671.0      25188.615   \n",
       "4      108129           Cash loans      512370.0      21709.125   \n",
       "\n",
       "   AMT_GOODS_PRICE_x NAME_TYPE_SUITE_x WEEKDAY_APPR_PROCESS_START_x  \\\n",
       "0            17145.0               NaN                     SATURDAY   \n",
       "1          1800000.0               NaN                     SATURDAY   \n",
       "2           108400.5               NaN                       SUNDAY   \n",
       "3           607500.0     Unaccompanied                     THURSDAY   \n",
       "4           450000.0               NaN                    WEDNESDAY   \n",
       "\n",
       "   HOUR_APPR_PROCESS_START_x  DAYS_DECISION NAME_CONTRACT_TYPE_y  \\\n",
       "0                       15.0          -73.0           Cash loans   \n",
       "1                       18.0         -472.0           Cash loans   \n",
       "2                       14.0         -548.0           Cash loans   \n",
       "3                       11.0         -164.0      Revolving loans   \n",
       "4                        9.0         -515.0      Revolving loans   \n",
       "\n",
       "   AMT_CREDIT_y  AMT_ANNUITY_y  AMT_GOODS_PRICE_y NAME_TYPE_SUITE_y  \\\n",
       "0      533668.5        25803.0           477000.0     Unaccompanied   \n",
       "1      533668.5        25803.0           477000.0     Unaccompanied   \n",
       "2      533668.5        25803.0           477000.0     Unaccompanied   \n",
       "3      135000.0         6750.0           135000.0            Family   \n",
       "4      135000.0         6750.0           135000.0            Family   \n",
       "\n",
       "  WEEKDAY_APPR_PROCESS_START_y  HOUR_APPR_PROCESS_START_y  \n",
       "0                      TUESDAY                         17  \n",
       "1                      TUESDAY                         17  \n",
       "2                      TUESDAY                         17  \n",
       "3                       SUNDAY                         10  \n",
       "4                       SUNDAY                         10  "
      ]
     },
     "execution_count": 3,
     "metadata": {},
     "output_type": "execute_result"
    }
   ],
   "source": [
    "features = pd.DataFrame({'SK_ID_CURR': application['SK_ID_CURR']})\n",
    "\n",
    "common_columns = [col for col in application.columns if col in previous_application.columns]\n",
    "application_common = application[common_columns]\n",
    "merged_tables = previous_application[common_columns + ['DAYS_DECISION']].merge(application_common, on='SK_ID_CURR',\n",
    "                                                                               how='right')\n",
    "merged_tables.head()"
   ]
  },
  {
   "cell_type": "code",
   "execution_count": 4,
   "metadata": {},
   "outputs": [],
   "source": [
    "merged_sorted = merged_tables.sort_values(['SK_ID_CURR', 'DAYS_DECISION'])"
   ]
  },
  {
   "cell_type": "code",
   "execution_count": 5,
   "metadata": {},
   "outputs": [],
   "source": [
    "merged_sorted['annuity_diff'] = merged_sorted['AMT_ANNUITY_y'] - merged_sorted['AMT_ANNUITY_x']\n",
    "merged_sorted['annuity_ratio'] = merged_sorted['AMT_ANNUITY_y'] / merged_sorted['AMT_ANNUITY_x']\n",
    "merged_sorted['credit_diff'] = merged_sorted['AMT_CREDIT_y'] - merged_sorted['AMT_CREDIT_x']\n",
    "merged_sorted['credit_ratio'] = merged_sorted['AMT_CREDIT_y'] / merged_sorted['AMT_CREDIT_x']"
   ]
  },
  {
   "cell_type": "code",
   "execution_count": 6,
   "metadata": {
    "scrolled": true
   },
   "outputs": [
    {
     "name": "stderr",
     "output_type": "stream",
     "text": [
      "/mnt/ml-team/homes/milosz.michta/envs/python3/lib/python3.5/site-packages/ipykernel_launcher.py:7: SettingWithCopyWarning: \n",
      "A value is trying to be set on a copy of a slice from a DataFrame\n",
      "\n",
      "See the caveats in the documentation: http://pandas.pydata.org/pandas-docs/stable/indexing.html#indexing-view-versus-copy\n",
      "  import sys\n"
     ]
    }
   ],
   "source": [
    "merged_sorted['the_same_contract_type'] = (\n",
    "    merged_sorted['NAME_CONTRACT_TYPE_x'] == merged_sorted['NAME_CONTRACT_TYPE_y']).astype(int)\n",
    "merged_sorted['the_same_weekday'] = (merged_sorted['WEEKDAY_APPR_PROCESS_START_x'] == merged_sorted['WEEKDAY_APPR_PROCESS_START_y']).astype(int)\n",
    "merged_sorted['hour_diff'] = merged_sorted['HOUR_APPR_PROCESS_START_x'] - merged_sorted['HOUR_APPR_PROCESS_START_y']\n",
    "merged_sorted['the_same_type_suite'] = (merged_sorted['NAME_TYPE_SUITE_x'] == merged_sorted['NAME_TYPE_SUITE_y']\n",
    "                                       ).astype(int)\n",
    "merged_sorted['the_same_type_suite'][merged_sorted['NAME_TYPE_SUITE_x'].isnull()] = 1"
   ]
  },
  {
   "cell_type": "code",
   "execution_count": 7,
   "metadata": {},
   "outputs": [],
   "source": [
    "def _get_last_k_applications_feature_name(feature_name, number, suffix):\n",
    "    return 'application_previous_application_{}_last_{}_applications_{}'.format(feature_name, number, suffix)\n",
    "\n",
    "\n",
    "def get_last_k_credits_features(merged_sorted, numbers_of_applications):\n",
    "    features = pd.DataFrame({'SK_ID_CURR': merged_sorted['SK_ID_CURR'].unique()})\n",
    "    feature_list = ['annuity_diff', 'annuity_ratio', 'credit_diff', 'credit_ratio', 'the_same_contract_type',\n",
    "                        'the_same_type_suite', 'the_same_weekday', 'hour_diff']\n",
    "\n",
    "    for number in numbers_of_applications:\n",
    "        table_tail = merged_sorted.groupby('SK_ID_CURR').tail(number)\n",
    "        tail_groupby = table_tail.groupby('SK_ID_CURR')\n",
    "        g = tail_groupby[feature_list].agg('mean')\n",
    "\n",
    "        g = g.rename(axis='columns', mapper=partial(_get_last_k_applications_feature_name, number=number,\n",
    "                                        suffix='mean')).reset_index()\n",
    "\n",
    "        features = features.merge(g, how='left', on=['SK_ID_CURR'])\n",
    "    return features"
   ]
  },
  {
   "cell_type": "code",
   "execution_count": 8,
   "metadata": {},
   "outputs": [],
   "source": [
    "g = get_last_k_credits_features(merged_sorted, numbers_of_applications=[1,3,5,10])\n",
    "features = features.merge(g, on=['SK_ID_CURR'], how='left')"
   ]
  },
  {
   "cell_type": "code",
   "execution_count": 9,
   "metadata": {},
   "outputs": [],
   "source": [
    "X = application.merge(features,\n",
    "                                left_on=['SK_ID_CURR'],\n",
    "                                right_on=['SK_ID_CURR'],\n",
    "                                how='left',\n",
    "                                validate='one_to_one')"
   ]
  },
  {
   "cell_type": "code",
   "execution_count": 10,
   "metadata": {},
   "outputs": [],
   "source": [
    "engineered_numerical_columns = list(features.columns)\n",
    "engineered_numerical_columns.remove('SK_ID_CURR')\n",
    "X = X[engineered_numerical_columns + ['TARGET']]\n",
    "X_corr = abs(X.corr())"
   ]
  },
  {
   "cell_type": "code",
   "execution_count": 11,
   "metadata": {
    "scrolled": false
   },
   "outputs": [
    {
     "data": {
      "text/plain": [
       "TARGET                                                                               1.000000\n",
       "application_previous_application_annuity_ratio_last_1_applications_mean              0.029945\n",
       "application_previous_application_annuity_ratio_last_3_applications_mean              0.029445\n",
       "application_previous_application_annuity_ratio_last_5_applications_mean              0.029344\n",
       "application_previous_application_annuity_ratio_last_10_applications_mean             0.029287\n",
       "application_previous_application_the_same_contract_type_last_10_applications_mean    0.024471\n",
       "application_previous_application_the_same_contract_type_last_5_applications_mean     0.022874\n",
       "application_previous_application_annuity_diff_last_1_applications_mean               0.022078\n",
       "application_previous_application_credit_diff_last_10_applications_mean               0.021103\n",
       "application_previous_application_the_same_type_suite_last_10_applications_mean       0.020787\n",
       "application_previous_application_credit_diff_last_5_applications_mean                0.019877\n",
       "application_previous_application_the_same_contract_type_last_3_applications_mean     0.019509\n",
       "application_previous_application_the_same_type_suite_last_5_applications_mean        0.019242\n",
       "application_previous_application_annuity_diff_last_3_applications_mean               0.018247\n",
       "application_previous_application_credit_diff_last_3_applications_mean                0.017508\n",
       "application_previous_application_annuity_diff_last_5_applications_mean               0.016040\n",
       "application_previous_application_the_same_type_suite_last_3_applications_mean        0.016020\n",
       "application_previous_application_annuity_diff_last_10_applications_mean              0.014610\n",
       "application_previous_application_credit_diff_last_1_applications_mean                0.012803\n",
       "application_previous_application_the_same_contract_type_last_1_applications_mean     0.012279\n",
       "application_previous_application_credit_ratio_last_1_applications_mean               0.008874\n",
       "application_previous_application_the_same_type_suite_last_1_applications_mean        0.008151\n",
       "application_previous_application_hour_diff_last_10_applications_mean                 0.007691\n",
       "application_previous_application_hour_diff_last_3_applications_mean                  0.006973\n",
       "application_previous_application_hour_diff_last_5_applications_mean                  0.006959\n",
       "application_previous_application_hour_diff_last_1_applications_mean                  0.005849\n",
       "application_previous_application_credit_ratio_last_10_applications_mean              0.005823\n",
       "application_previous_application_credit_ratio_last_3_applications_mean               0.005652\n",
       "application_previous_application_credit_ratio_last_5_applications_mean               0.005428\n",
       "application_previous_application_the_same_weekday_last_5_applications_mean           0.002354\n",
       "application_previous_application_the_same_weekday_last_3_applications_mean           0.002253\n",
       "application_previous_application_the_same_weekday_last_10_applications_mean          0.002234\n",
       "application_previous_application_the_same_weekday_last_1_applications_mean           0.000060\n",
       "Name: TARGET, dtype: float64"
      ]
     },
     "execution_count": 11,
     "metadata": {},
     "output_type": "execute_result"
    }
   ],
   "source": [
    "X_corr.sort_values('TARGET', ascending=False)['TARGET']"
   ]
  }
 ],
 "metadata": {
  "kernelspec": {
   "display_name": "Python 3",
   "language": "python",
   "name": "python3"
  },
  "language_info": {
   "codemirror_mode": {
    "name": "ipython",
    "version": 3
   },
   "file_extension": ".py",
   "mimetype": "text/x-python",
   "name": "python",
   "nbconvert_exporter": "python",
   "pygments_lexer": "ipython3",
   "version": "3.5.2"
  }
 },
 "nbformat": 4,
 "nbformat_minor": 2
}
