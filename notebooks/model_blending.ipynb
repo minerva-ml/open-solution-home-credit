{
 "cells": [
  {
   "cell_type": "code",
   "execution_count": null,
   "metadata": {},
   "outputs": [],
   "source": [
    "import sys\n",
    "import os\n",
    "import numpy as np\n",
    "import pandas as pd\n",
    "from scipy.stats import gmean\n",
    "%matplotlib inline\n",
    "import seaborn as sns\n",
    "import matplotlib.pyplot as plt\n",
    "\n",
    "sys.path.append('../')\n",
    "from src.utils import read_oof_predictions\n",
    "\n",
    "PROJECT_DIR = 'PATH/TO/YOUR/EXPERIMENT'\n",
    "PROJECT_DIR = '/mnt/ml-team/minerva/open-solutions/home-credit'\n",
    "PREDICTIONS_DIR = os.path.join(PROJECT_DIR,'files','out_of_fold_predictions')\n",
    "TRAIN_FILEPATH = os.path.join(PROJECT_DIR,'files','unzipped_data','application_train.csv')"
   ]
  },
  {
   "cell_type": "code",
   "execution_count": null,
   "metadata": {},
   "outputs": [],
   "source": [
    "train_oof, test_oof = read_oof_predictions(PREDICTIONS_DIR, TRAIN_FILEPATH, 'SK_ID_CURR','TARGET')"
   ]
  },
  {
   "cell_type": "code",
   "execution_count": null,
   "metadata": {},
   "outputs": [],
   "source": [
    "train_oof.head()"
   ]
  },
  {
   "cell_type": "markdown",
   "metadata": {},
   "source": [
    "# Correlations"
   ]
  },
  {
   "cell_type": "code",
   "execution_count": null,
   "metadata": {
    "scrolled": false
   },
   "outputs": [],
   "source": [
    "for fold_id in range(5):\n",
    "    display('PROCESSING FOLD {}'.format(fold_id))\n",
    "    train_oof_fold = train_oof[train_oof['fold_id']==fold_id]\n",
    "    X_cols = [col for col in train_oof_fold.columns if '_lb_' in col]\n",
    "    X, y = train_oof_fold[X_cols], train_oof_fold['TARGET']\n",
    "    X_corr = pd.concat([X,y], axis=1).corr()\n",
    "    display(X_corr.sort_values('TARGET', ascending=False)['TARGET'])\n",
    "    plt.figure(figsize=(16,12))\n",
    "    sns.heatmap(X_corr, xticklabels=X_corr.columns, yticklabels=X_corr.columns, \n",
    "                annot=True,vmin=0.0,vmax=1.0)\n",
    "    plt.show()"
   ]
  },
  {
   "cell_type": "code",
   "execution_count": null,
   "metadata": {},
   "outputs": [],
   "source": []
  }
 ],
 "metadata": {
  "kernelspec": {
   "display_name": "cpu py3",
   "language": "python",
   "name": "cpu_py3"
  },
  "language_info": {
   "codemirror_mode": {
    "name": "ipython",
    "version": 3
   },
   "file_extension": ".py",
   "mimetype": "text/x-python",
   "name": "python",
   "nbconvert_exporter": "python",
   "pygments_lexer": "ipython3",
   "version": "3.5.2"
  }
 },
 "nbformat": 4,
 "nbformat_minor": 2
}
