{
 "cells": [
  {
   "cell_type": "code",
   "execution_count": 1,
   "metadata": {},
   "outputs": [
    {
     "name": "stderr",
     "output_type": "stream",
     "text": [
      "neptune: Executing in Offline Mode.\n",
      "/mnt/ml-team/homes/milosz.michta/envs/python3/lib/python3.5/site-packages/sklearn/ensemble/weight_boosting.py:29: DeprecationWarning: numpy.core.umath_tests is an internal NumPy module and should not be imported. It will be removed in a future NumPy release.\n",
      "  from numpy.core.umath_tests import inner1d\n",
      "Using TensorFlow backend.\n",
      "neptune: Executing in Offline Mode.\n",
      "neptune: Executing in Offline Mode.\n"
     ]
    }
   ],
   "source": [
    "import sys\n",
    "sys.path.append('../')\n",
    "\n",
    "from src import pipeline_config  as cfg\n",
    "from src.pipelines import PIPELINES"
   ]
  },
  {
   "cell_type": "code",
   "execution_count": 4,
   "metadata": {
    "scrolled": true
   },
   "outputs": [
    {
     "name": "stdout",
     "output_type": "stream",
     "text": [
      "2018-09-03 14:02:38 steppy >>> initializing Step oof_predictions...\n",
      "2018-09-03 14:02:38 steppy >>> initializing experiment directories under YOUR/PATH/WORKDIR\n",
      "2018-09-03 14:02:38 steppy >>> done: initializing experiment directories\n",
      "2018-09-03 14:02:38 steppy >>> Step oof_predictions initialized\n",
      "2018-09-03 14:02:38 steppy >>> initializing Step feature_joiner...\n",
      "2018-09-03 14:02:38 steppy >>> initializing experiment directories under YOUR/PATH/WORKDIR\n",
      "2018-09-03 14:02:38 steppy >>> done: initializing experiment directories\n",
      "2018-09-03 14:02:38 steppy >>> Step feature_joiner initialized\n",
      "2018-09-03 14:02:38 steppy >>> initializing Step application_cleaning...\n",
      "2018-09-03 14:02:38 steppy >>> initializing experiment directories under YOUR/PATH/WORKDIR\n",
      "2018-09-03 14:02:38 steppy >>> done: initializing experiment directories\n",
      "2018-09-03 14:02:38 steppy >>> Step application_cleaning initialized\n",
      "2018-09-03 14:02:38 steppy >>> initializing Step bureau_cleaning...\n",
      "2018-09-03 14:02:38 steppy >>> initializing experiment directories under YOUR/PATH/WORKDIR\n",
      "2018-09-03 14:02:38 steppy >>> done: initializing experiment directories\n",
      "2018-09-03 14:02:38 steppy >>> Step bureau_cleaning initialized\n",
      "2018-09-03 14:02:39 steppy >>> initializing Step bureau_balance_cleaning...\n",
      "2018-09-03 14:02:39 steppy >>> initializing experiment directories under YOUR/PATH/WORKDIR\n",
      "2018-09-03 14:02:39 steppy >>> done: initializing experiment directories\n",
      "2018-09-03 14:02:39 steppy >>> Step bureau_balance_cleaning initialized\n",
      "2018-09-03 14:02:39 steppy >>> initializing Step credit_card_balance_cleaning...\n",
      "2018-09-03 14:02:39 steppy >>> initializing experiment directories under YOUR/PATH/WORKDIR\n",
      "2018-09-03 14:02:39 steppy >>> done: initializing experiment directories\n",
      "2018-09-03 14:02:39 steppy >>> Step credit_card_balance_cleaning initialized\n",
      "2018-09-03 14:02:39 steppy >>> initializing Step installment_payments_cleaning...\n",
      "2018-09-03 14:02:39 steppy >>> initializing experiment directories under YOUR/PATH/WORKDIR\n",
      "2018-09-03 14:02:39 steppy >>> done: initializing experiment directories\n",
      "2018-09-03 14:02:39 steppy >>> Step installment_payments_cleaning initialized\n",
      "2018-09-03 14:02:39 steppy >>> initializing Step pos_cash_balance_cleaning...\n",
      "2018-09-03 14:02:39 steppy >>> initializing experiment directories under YOUR/PATH/WORKDIR\n",
      "2018-09-03 14:02:39 steppy >>> done: initializing experiment directories\n",
      "2018-09-03 14:02:39 steppy >>> Step pos_cash_balance_cleaning initialized\n",
      "2018-09-03 14:02:39 steppy >>> initializing Step previous_application_cleaning...\n",
      "2018-09-03 14:02:39 steppy >>> initializing experiment directories under YOUR/PATH/WORKDIR\n",
      "2018-09-03 14:02:39 steppy >>> done: initializing experiment directories\n",
      "2018-09-03 14:02:39 steppy >>> Step previous_application_cleaning initialized\n",
      "2018-09-03 14:02:39 steppy >>> initializing Step application_hand_crafted...\n",
      "2018-09-03 14:02:39 steppy >>> initializing experiment directories under YOUR/PATH/WORKDIR\n",
      "2018-09-03 14:02:39 steppy >>> done: initializing experiment directories\n",
      "2018-09-03 14:02:39 steppy >>> Step application_hand_crafted initialized\n",
      "2018-09-03 14:02:39 steppy >>> initializing Step bureau_hand_crafted...\n",
      "2018-09-03 14:02:39 steppy >>> initializing experiment directories under YOUR/PATH/WORKDIR\n",
      "2018-09-03 14:02:39 steppy >>> done: initializing experiment directories\n",
      "2018-09-03 14:02:39 steppy >>> Step bureau_hand_crafted initialized\n",
      "2018-09-03 14:02:39 steppy >>> initializing Step bureau_balance_hand_crafted...\n",
      "2018-09-03 14:02:39 steppy >>> initializing experiment directories under YOUR/PATH/WORKDIR\n",
      "2018-09-03 14:02:39 steppy >>> done: initializing experiment directories\n",
      "2018-09-03 14:02:39 steppy >>> Step bureau_balance_hand_crafted initialized\n",
      "2018-09-03 14:02:39 steppy >>> initializing Step credit_card_balance_hand_crafted...\n",
      "2018-09-03 14:02:39 steppy >>> initializing experiment directories under YOUR/PATH/WORKDIR\n",
      "2018-09-03 14:02:39 steppy >>> done: initializing experiment directories\n",
      "2018-09-03 14:02:39 steppy >>> Step credit_card_balance_hand_crafted initialized\n",
      "2018-09-03 14:02:39 steppy >>> initializing Step installment_payments_hand_crafted...\n",
      "2018-09-03 14:02:39 steppy >>> initializing experiment directories under YOUR/PATH/WORKDIR\n",
      "2018-09-03 14:02:39 steppy >>> done: initializing experiment directories\n",
      "2018-09-03 14:02:39 steppy >>> Step installment_payments_hand_crafted initialized\n",
      "2018-09-03 14:02:39 steppy >>> initializing Step pos_cash_balance_hand_crafted...\n",
      "2018-09-03 14:02:39 steppy >>> initializing experiment directories under YOUR/PATH/WORKDIR\n",
      "2018-09-03 14:02:39 steppy >>> done: initializing experiment directories\n",
      "2018-09-03 14:02:39 steppy >>> Step pos_cash_balance_hand_crafted initialized\n",
      "2018-09-03 14:02:39 steppy >>> initializing Step previous_applications_hand_crafted...\n",
      "2018-09-03 14:02:39 steppy >>> initializing experiment directories under YOUR/PATH/WORKDIR\n",
      "2018-09-03 14:02:39 steppy >>> done: initializing experiment directories\n",
      "2018-09-03 14:02:39 steppy >>> Step previous_applications_hand_crafted initialized\n",
      "2018-09-03 14:02:39 steppy >>> initializing Step application_previous_application...\n",
      "2018-09-03 14:02:39 steppy >>> initializing experiment directories under YOUR/PATH/WORKDIR\n",
      "2018-09-03 14:02:39 steppy >>> done: initializing experiment directories\n",
      "2018-09-03 14:02:39 steppy >>> Step application_previous_application initialized\n",
      "2018-09-03 14:02:39 steppy >>> initializing Step application_groupby_agg...\n",
      "2018-09-03 14:02:39 steppy >>> initializing experiment directories under YOUR/PATH/WORKDIR\n",
      "2018-09-03 14:02:39 steppy >>> done: initializing experiment directories\n",
      "2018-09-03 14:02:39 steppy >>> Step application_groupby_agg initialized\n",
      "2018-09-03 14:02:39 steppy >>> initializing Step bureau_groupby_agg...\n",
      "2018-09-03 14:02:39 steppy >>> initializing experiment directories under YOUR/PATH/WORKDIR\n",
      "2018-09-03 14:02:39 steppy >>> done: initializing experiment directories\n",
      "2018-09-03 14:02:39 steppy >>> Step bureau_groupby_agg initialized\n",
      "2018-09-03 14:02:39 steppy >>> initializing Step credit_card_balance_groupby_agg...\n",
      "2018-09-03 14:02:39 steppy >>> initializing experiment directories under YOUR/PATH/WORKDIR\n",
      "2018-09-03 14:02:39 steppy >>> done: initializing experiment directories\n",
      "2018-09-03 14:02:39 steppy >>> Step credit_card_balance_groupby_agg initialized\n",
      "2018-09-03 14:02:39 steppy >>> initializing Step installments_payments_groupby_agg...\n",
      "2018-09-03 14:02:39 steppy >>> initializing experiment directories under YOUR/PATH/WORKDIR\n",
      "2018-09-03 14:02:39 steppy >>> done: initializing experiment directories\n",
      "2018-09-03 14:02:39 steppy >>> Step installments_payments_groupby_agg initialized\n",
      "2018-09-03 14:02:39 steppy >>> initializing Step pos_cash_balance_groupby_agg...\n",
      "2018-09-03 14:02:39 steppy >>> initializing experiment directories under YOUR/PATH/WORKDIR\n",
      "2018-09-03 14:02:39 steppy >>> done: initializing experiment directories\n",
      "2018-09-03 14:02:39 steppy >>> Step pos_cash_balance_groupby_agg initialized\n",
      "2018-09-03 14:02:39 steppy >>> initializing Step previous_applications_groupby_agg...\n",
      "2018-09-03 14:02:39 steppy >>> initializing experiment directories under YOUR/PATH/WORKDIR\n",
      "2018-09-03 14:02:39 steppy >>> done: initializing experiment directories\n",
      "2018-09-03 14:02:39 steppy >>> Step previous_applications_groupby_agg initialized\n",
      "2018-09-03 14:02:39 steppy >>> initializing Step application_categorical_encoder...\n",
      "2018-09-03 14:02:39 steppy >>> initializing experiment directories under YOUR/PATH/WORKDIR\n",
      "2018-09-03 14:02:39 steppy >>> done: initializing experiment directories\n",
      "2018-09-03 14:02:39 steppy >>> Step application_categorical_encoder initialized\n",
      "2018-09-03 14:02:39 steppy >>> initializing Step previous_application_categorical_encoder...\n",
      "2018-09-03 14:02:39 steppy >>> initializing experiment directories under YOUR/PATH/WORKDIR\n",
      "2018-09-03 14:02:39 steppy >>> done: initializing experiment directories\n",
      "2018-09-03 14:02:39 steppy >>> Step previous_application_categorical_encoder initialized\n",
      "2018-09-03 14:02:39 steppy >>> initializing Step application_previous_application_categorical_encoder...\n",
      "2018-09-03 14:02:39 steppy >>> initializing experiment directories under YOUR/PATH/WORKDIR\n",
      "2018-09-03 14:02:39 steppy >>> done: initializing experiment directories\n"
     ]
    },
    {
     "name": "stdout",
     "output_type": "stream",
     "text": [
      "2018-09-03 14:02:39 steppy >>> Step application_previous_application_categorical_encoder initialized\n",
      "2018-09-03 14:02:39 steppy >>> initializing Step feature_joiner...\n",
      "2018-09-03 14:02:39 steppy >>> initializing experiment directories under YOUR/PATH/WORKDIR\n",
      "2018-09-03 14:02:39 steppy >>> done: initializing experiment directories\n",
      "2018-09-03 14:02:39 steppy >>> Step feature_joiner initialized\n",
      "2018-09-03 14:02:39 steppy >>> initializing Step idx_merge...\n",
      "2018-09-03 14:02:39 steppy >>> initializing experiment directories under YOUR/PATH/WORKDIR\n",
      "2018-09-03 14:02:39 steppy >>> done: initializing experiment directories\n",
      "2018-09-03 14:02:39 steppy >>> Step idx_merge initialized\n",
      "2018-09-03 14:02:39 steppy >>> initializing Step feature_concat...\n",
      "2018-09-03 14:02:39 steppy >>> initializing experiment directories under YOUR/PATH/WORKDIR\n",
      "2018-09-03 14:02:39 steppy >>> done: initializing experiment directories\n",
      "2018-09-03 14:02:39 steppy >>> Step feature_concat initialized\n",
      "2018-09-03 14:02:39 steppy >>> initializing Step light_gbm...\n",
      "2018-09-03 14:02:39 steppy >>> initializing experiment directories under YOUR/PATH/WORKDIR\n",
      "2018-09-03 14:02:39 steppy >>> done: initializing experiment directories\n",
      "2018-09-03 14:02:39 steppy >>> Step light_gbm initialized\n"
     ]
    }
   ],
   "source": [
    "solution_5 = PIPELINES['lightGBM_stacking_with_features'](config=cfg.SOLUTION_CONFIG, train_mode=False)"
   ]
  },
  {
   "cell_type": "code",
   "execution_count": 5,
   "metadata": {},
   "outputs": [
    {
     "ename": "InvocationException",
     "evalue": "GraphViz's executables not found",
     "output_type": "error",
     "traceback": [
      "\u001b[0;31m---------------------------------------------------------------------------\u001b[0m",
      "\u001b[0;31mInvocationException\u001b[0m                       Traceback (most recent call last)",
      "\u001b[0;32m/mnt/ml-team/homes/milosz.michta/envs/python3/lib/python3.5/site-packages/IPython/core/formatters.py\u001b[0m in \u001b[0;36m__call__\u001b[0;34m(self, obj)\u001b[0m\n\u001b[1;32m    343\u001b[0m             \u001b[0mmethod\u001b[0m \u001b[0;34m=\u001b[0m \u001b[0mget_real_method\u001b[0m\u001b[0;34m(\u001b[0m\u001b[0mobj\u001b[0m\u001b[0;34m,\u001b[0m \u001b[0mself\u001b[0m\u001b[0;34m.\u001b[0m\u001b[0mprint_method\u001b[0m\u001b[0;34m)\u001b[0m\u001b[0;34m\u001b[0m\u001b[0m\n\u001b[1;32m    344\u001b[0m             \u001b[0;32mif\u001b[0m \u001b[0mmethod\u001b[0m \u001b[0;32mis\u001b[0m \u001b[0;32mnot\u001b[0m \u001b[0;32mNone\u001b[0m\u001b[0;34m:\u001b[0m\u001b[0;34m\u001b[0m\u001b[0m\n\u001b[0;32m--> 345\u001b[0;31m                 \u001b[0;32mreturn\u001b[0m \u001b[0mmethod\u001b[0m\u001b[0;34m(\u001b[0m\u001b[0;34m)\u001b[0m\u001b[0;34m\u001b[0m\u001b[0m\n\u001b[0m\u001b[1;32m    346\u001b[0m             \u001b[0;32mreturn\u001b[0m \u001b[0;32mNone\u001b[0m\u001b[0;34m\u001b[0m\u001b[0m\n\u001b[1;32m    347\u001b[0m         \u001b[0;32melse\u001b[0m\u001b[0;34m:\u001b[0m\u001b[0;34m\u001b[0m\u001b[0m\n",
      "\u001b[0;32m/mnt/ml-team/homes/milosz.michta/envs/python3/lib/python3.5/site-packages/steppy/base.py\u001b[0m in \u001b[0;36m_repr_html_\u001b[0;34m(self)\u001b[0m\n\u001b[1;32m    522\u001b[0m \u001b[0;34m\u001b[0m\u001b[0m\n\u001b[1;32m    523\u001b[0m     \u001b[0;32mdef\u001b[0m \u001b[0m_repr_html_\u001b[0m\u001b[0;34m(\u001b[0m\u001b[0mself\u001b[0m\u001b[0;34m)\u001b[0m\u001b[0;34m:\u001b[0m\u001b[0;34m\u001b[0m\u001b[0m\n\u001b[0;32m--> 524\u001b[0;31m         \u001b[0;32mreturn\u001b[0m \u001b[0mdisplay_pipeline\u001b[0m\u001b[0;34m(\u001b[0m\u001b[0mself\u001b[0m\u001b[0;34m.\u001b[0m\u001b[0mupstream_pipeline_structure\u001b[0m\u001b[0;34m)\u001b[0m\u001b[0;34m\u001b[0m\u001b[0m\n\u001b[0m\u001b[1;32m    525\u001b[0m \u001b[0;34m\u001b[0m\u001b[0m\n\u001b[1;32m    526\u001b[0m     \u001b[0;32mdef\u001b[0m \u001b[0m__str__\u001b[0m\u001b[0;34m(\u001b[0m\u001b[0mself\u001b[0m\u001b[0;34m)\u001b[0m\u001b[0;34m:\u001b[0m\u001b[0;34m\u001b[0m\u001b[0m\n",
      "\u001b[0;32m/mnt/ml-team/homes/milosz.michta/envs/python3/lib/python3.5/site-packages/steppy/utils.py\u001b[0m in \u001b[0;36mdisplay_pipeline\u001b[0;34m(structure_dict)\u001b[0m\n\u001b[1;32m     77\u001b[0m     \"\"\"\n\u001b[1;32m     78\u001b[0m     \u001b[0mgraph\u001b[0m \u001b[0;34m=\u001b[0m \u001b[0m_create_graph\u001b[0m\u001b[0;34m(\u001b[0m\u001b[0mstructure_dict\u001b[0m\u001b[0;34m)\u001b[0m\u001b[0;34m\u001b[0m\u001b[0m\n\u001b[0;32m---> 79\u001b[0;31m     \u001b[0mplt\u001b[0m \u001b[0;34m=\u001b[0m \u001b[0mImage\u001b[0m\u001b[0;34m(\u001b[0m\u001b[0mgraph\u001b[0m\u001b[0;34m.\u001b[0m\u001b[0mcreate_png\u001b[0m\u001b[0;34m(\u001b[0m\u001b[0;34m)\u001b[0m\u001b[0;34m)\u001b[0m\u001b[0;34m\u001b[0m\u001b[0m\n\u001b[0m\u001b[1;32m     80\u001b[0m     \u001b[0mdisplay\u001b[0m\u001b[0;34m(\u001b[0m\u001b[0mplt\u001b[0m\u001b[0;34m)\u001b[0m\u001b[0;34m\u001b[0m\u001b[0m\n\u001b[1;32m     81\u001b[0m \u001b[0;34m\u001b[0m\u001b[0m\n",
      "\u001b[0;32m/mnt/ml-team/homes/milosz.michta/envs/python3/lib/python3.5/site-packages/pydot_ng/__init__.py\u001b[0m in \u001b[0;36m<lambda>\u001b[0;34m(f, prog)\u001b[0m\n\u001b[1;32m   1730\u001b[0m             self.__setattr__(\n\u001b[1;32m   1731\u001b[0m                 \u001b[0;34m'create_'\u001b[0m \u001b[0;34m+\u001b[0m \u001b[0mfrmt\u001b[0m\u001b[0;34m,\u001b[0m\u001b[0;34m\u001b[0m\u001b[0m\n\u001b[0;32m-> 1732\u001b[0;31m                 \u001b[0;32mlambda\u001b[0m \u001b[0mf\u001b[0m\u001b[0;34m=\u001b[0m\u001b[0mfrmt\u001b[0m\u001b[0;34m,\u001b[0m \u001b[0mprog\u001b[0m\u001b[0;34m=\u001b[0m\u001b[0mself\u001b[0m\u001b[0;34m.\u001b[0m\u001b[0mprog\u001b[0m\u001b[0;34m:\u001b[0m \u001b[0mself\u001b[0m\u001b[0;34m.\u001b[0m\u001b[0mcreate\u001b[0m\u001b[0;34m(\u001b[0m\u001b[0mformat\u001b[0m\u001b[0;34m=\u001b[0m\u001b[0mf\u001b[0m\u001b[0;34m,\u001b[0m \u001b[0mprog\u001b[0m\u001b[0;34m=\u001b[0m\u001b[0mprog\u001b[0m\u001b[0;34m)\u001b[0m\u001b[0;34m\u001b[0m\u001b[0m\n\u001b[0m\u001b[1;32m   1733\u001b[0m                 )\n\u001b[1;32m   1734\u001b[0m             \u001b[0mf\u001b[0m \u001b[0;34m=\u001b[0m \u001b[0mself\u001b[0m\u001b[0;34m.\u001b[0m\u001b[0m__dict__\u001b[0m\u001b[0;34m[\u001b[0m\u001b[0;34m'create_'\u001b[0m \u001b[0;34m+\u001b[0m \u001b[0mfrmt\u001b[0m\u001b[0;34m]\u001b[0m\u001b[0;34m\u001b[0m\u001b[0m\n",
      "\u001b[0;32m/mnt/ml-team/homes/milosz.michta/envs/python3/lib/python3.5/site-packages/pydot_ng/__init__.py\u001b[0m in \u001b[0;36mcreate\u001b[0;34m(self, prog, format)\u001b[0m\n\u001b[1;32m   1888\u001b[0m             \u001b[0;32mif\u001b[0m \u001b[0mself\u001b[0m\u001b[0;34m.\u001b[0m\u001b[0mprogs\u001b[0m \u001b[0;32mis\u001b[0m \u001b[0;32mNone\u001b[0m\u001b[0;34m:\u001b[0m\u001b[0;34m\u001b[0m\u001b[0m\n\u001b[1;32m   1889\u001b[0m                 raise InvocationException(\n\u001b[0;32m-> 1890\u001b[0;31m                     'GraphViz\\'s executables not found')\n\u001b[0m\u001b[1;32m   1891\u001b[0m \u001b[0;34m\u001b[0m\u001b[0m\n\u001b[1;32m   1892\u001b[0m         \u001b[0;32mif\u001b[0m \u001b[0mprog\u001b[0m \u001b[0;32mnot\u001b[0m \u001b[0;32min\u001b[0m \u001b[0mself\u001b[0m\u001b[0;34m.\u001b[0m\u001b[0mprogs\u001b[0m\u001b[0;34m:\u001b[0m\u001b[0;34m\u001b[0m\u001b[0m\n",
      "\u001b[0;31mInvocationException\u001b[0m: GraphViz's executables not found"
     ]
    },
    {
     "data": {
      "text/plain": [
       "<steppy.base.Step at 0x7f794ea45fd0>"
      ]
     },
     "execution_count": 5,
     "metadata": {},
     "output_type": "execute_result"
    }
   ],
   "source": [
    "solution_5"
   ]
  }
 ],
 "metadata": {
  "kernelspec": {
   "display_name": "Python 3",
   "language": "python",
   "name": "python3"
  },
  "language_info": {
   "codemirror_mode": {
    "name": "ipython",
    "version": 3
   },
   "file_extension": ".py",
   "mimetype": "text/x-python",
   "name": "python",
   "nbconvert_exporter": "python",
   "pygments_lexer": "ipython3",
   "version": "3.5.2"
  }
 },
 "nbformat": 4,
 "nbformat_minor": 2
}
